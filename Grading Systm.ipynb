{
 "cells": [
  {
   "cell_type": "code",
   "execution_count": 1,
   "metadata": {},
   "outputs": [
    {
     "name": "stdout",
     "output_type": "stream",
     "text": [
      "marks of 1st subject=90\n",
      "marks of 2st subject=95\n",
      "marks of 3st subject=96\n",
      "marks of 4st subject=99\n",
      "marks of 5st subject=89\n",
      "469.0\n",
      "93.8 per\n",
      "A Grade\n"
     ]
    }
   ],
   "source": [
    "a=float(input(\"marks of 1st subject=\"))\n",
    "b=float(input(\"marks of 2st subject=\"))\n",
    "c=float(input(\"marks of 3st subject=\"))\n",
    "d=float(input(\"marks of 4st subject=\"))\n",
    "e=float(input(\"marks of 5st subject=\"))\n",
    "A=a+b+c+d+e\n",
    "print(A)\n",
    "B=A/5\n",
    "print(B,\"per\")\n",
    "if B>95:\n",
    "    print(\"A+grade\")\n",
    "elif B>90:\n",
    "    print(\"A Grade\")\n",
    "elif B>80:\n",
    "    print(\"B+ grade\")\n",
    "elif B>70:\n",
    "    print(\"B Grade\")\n",
    "elif B>60:\n",
    "    print(\"C+ Grade\")\n",
    "elif B>50:\n",
    "    print(\"C Grade\")"
   ]
  },
  {
   "cell_type": "code",
   "execution_count": null,
   "metadata": {},
   "outputs": [],
   "source": []
  }
 ],
 "metadata": {
  "kernelspec": {
   "display_name": "Python 3",
   "language": "python",
   "name": "python3"
  },
  "language_info": {
   "codemirror_mode": {
    "name": "ipython",
    "version": 3
   },
   "file_extension": ".py",
   "mimetype": "text/x-python",
   "name": "python",
   "nbconvert_exporter": "python",
   "pygments_lexer": "ipython3",
   "version": "3.8.5"
  }
 },
 "nbformat": 4,
 "nbformat_minor": 4
}
