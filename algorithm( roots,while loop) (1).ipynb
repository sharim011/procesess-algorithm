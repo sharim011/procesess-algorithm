{
 "cells": [
  {
   "cell_type": "code",
   "execution_count": 70,
   "metadata": {},
   "outputs": [
    {
     "name": "stdout",
     "output_type": "stream",
     "text": [
      "enter a:5\n",
      "enter b:4\n",
      "enter c:6\n",
      "roots are imaginary\n"
     ]
    }
   ],
   "source": [
    "def find_roots(a,b,c):\n",
    "    delta=(b**2-4*a*c)\n",
    "    if delta>0:\n",
    "        root1=(-b+((delta)**0.5))/(2*a)\n",
    "        root2=(-b-((delta)**0.5))/(2*a)\n",
    "        print (root1,root2)\n",
    "    elif delta==0:\n",
    "        root=-b/(2*a)\n",
    "        print(root)\n",
    "    else:\n",
    "        print(\"roots are imaginary\")\n",
    "        \n",
    "num1=float(input(\"enter a:\"))\n",
    "num2=float(input(\"enter b:\"))\n",
    "num3=float(input(\"enter c:\"))\n",
    "\n",
    "find_roots(num1,num2,num3)"
   ]
  },
  {
   "cell_type": "code",
   "execution_count": 71,
   "metadata": {},
   "outputs": [
    {
     "name": "stdout",
     "output_type": "stream",
     "text": [
      "hello\n",
      "hello\n",
      "hello\n"
     ]
    }
   ],
   "source": [
    "count=0\n",
    "while (count<3):\n",
    "    print(\"hello\")\n",
    "    count=count+1"
   ]
  },
  {
   "cell_type": "code",
   "execution_count": 72,
   "metadata": {},
   "outputs": [
    {
     "name": "stdout",
     "output_type": "stream",
     "text": [
      "3\n"
     ]
    }
   ],
   "source": [
    "print(count)"
   ]
  },
  {
   "cell_type": "code",
   "execution_count": 75,
   "metadata": {},
   "outputs": [
    {
     "name": "stdout",
     "output_type": "stream",
     "text": [
      "enter total 5\n",
      "product is:  120\n"
     ]
    }
   ],
   "source": [
    "i=int(input(\"enter total \"))\n",
    "prod=1\n",
    "while (i>0):\n",
    "    prod=prod*i\n",
    "    i=i-1\n",
    "print(\"product is: \",prod)"
   ]
  },
  {
   "cell_type": "code",
   "execution_count": 97,
   "metadata": {},
   "outputs": [
    {
     "name": "stdout",
     "output_type": "stream",
     "text": [
      "array('i', [1, 2, 3, 4, 5, 6])\n"
     ]
    }
   ],
   "source": [
    "import array\n",
    "from array import*\n",
    "\n",
    "a=array('i',[1,2,3,4,5,6])\n",
    "print(a)"
   ]
  },
  {
   "cell_type": "code",
   "execution_count": 98,
   "metadata": {},
   "outputs": [
    {
     "name": "stdout",
     "output_type": "stream",
     "text": [
      "<class 'array.array'>\n"
     ]
    }
   ],
   "source": [
    "print(type(a))"
   ]
  },
  {
   "cell_type": "code",
   "execution_count": 101,
   "metadata": {},
   "outputs": [
    {
     "name": "stdout",
     "output_type": "stream",
     "text": [
      "array('i', [64, 34, 25, 12])\n"
     ]
    }
   ],
   "source": [
    "import array\n",
    "from array import *\n",
    "def pairwise_swap(arr):\n",
    "    l=len(arr)\n",
    " \n",
    "    for i in range (0,l-1):\n",
    "        for j in range (0,n-l-1):\n",
    "            if arr[j] > arr[j+1]:\n",
    "                arr[j],arr[j+1]=arr[j+1], arr[j]\n",
    "                \n",
    "                \n",
    "array1 = array('i', [64,34,25,12])\n",
    "pairwise_swap(array1)\n",
    "print(array1)\n",
    "            "
   ]
  },
  {
   "cell_type": "code",
   "execution_count": 102,
   "metadata": {},
   "outputs": [
    {
     "name": "stdout",
     "output_type": "stream",
     "text": [
      "array('i', [92, 68, 64, 44, 34, 34, 25, 23, 12, 11])\n"
     ]
    }
   ],
   "source": [
    "import array\n",
    "from array import *\n",
    "def pairwise_swap(arr):\n",
    "    n=len(arr)\n",
    " \n",
    "    for i in range (0,n-1):\n",
    "        for j in range (0,n-i-1):\n",
    "            if arr[j] < arr[j+1]:\n",
    "                arr[j],arr[j+1]=arr[j+1], arr[j]\n",
    "                \n",
    "                \n",
    "array1 = array('i', [64,34,25,12,34,68,92,44,23,11])\n",
    "pairwise_swap(array1)\n",
    "\n",
    "print(array1)"
   ]
  },
  {
   "cell_type": "code",
   "execution_count": 103,
   "metadata": {},
   "outputs": [
    {
     "name": "stdout",
     "output_type": "stream",
     "text": [
      "first sub array: [1, 2, 3, 4, 5]\n",
      "first sub array: [6, 7, 8, 9, 10]\n"
     ]
    }
   ],
   "source": [
    "numbers=[1,2,3,4,5,6,7,8,9,10]\n",
    "mid=len(numbers)//2\n",
    "part1=numbers[:mid]\n",
    "part2=numbers[mid:]\n",
    "print(\"first sub array:\",part1)\n",
    "print(\"first sub array:\",part2)"
   ]
  },
  {
   "cell_type": "code",
   "execution_count": 105,
   "metadata": {},
   "outputs": [
    {
     "name": "stdout",
     "output_type": "stream",
     "text": [
      "basic_salary50000\n",
      "50000\n",
      "hra 10000.0\n",
      "da 25000.0\n",
      "pf 5500.0\n",
      "the hra is 10000.0\n",
      "the da is 25000.0\n",
      "the pf is 5500.0\n",
      "the allowance is 1700\n",
      "gross_salary=a+hra+da+allowance-pf\n",
      "gross_salary 81200.0\n"
     ]
    }
   ],
   "source": [
    "a=int(input(\"basic_salary\"))\n",
    "print(a)\n",
    "hra=a*20/100\n",
    "print('hra',hra)\n",
    "da=a*50/100\n",
    "print('da',da)\n",
    "pf=a*11/100\n",
    "print('pf',pf)\n",
    "if a>10000:\n",
    "    allowance=1700\n",
    "elif a>5000:\n",
    "    allowance=1500\n",
    "else:\n",
    "    allowance=1300\n",
    "gross_salary=a+hra+da+allowance-pf\n",
    "print('the hra is',hra)\n",
    "print('the da is',da)\n",
    "print('the pf is',pf)\n",
    "print('the allowance is',allowance)\n",
    "print('gross_salary=a+hra+da+allowance-pf')\n",
    "print('gross_salary',gross_salary)"
   ]
  },
  {
   "cell_type": "code",
   "execution_count": 109,
   "metadata": {},
   "outputs": [
    {
     "name": "stdout",
     "output_type": "stream",
     "text": [
      "enter no. 5\n",
      "sum of n natural no. 15\n"
     ]
    }
   ],
   "source": [
    "i=1\n",
    "n=int(input(\"enter no. \"))\n",
    "sum=0\n",
    "while i<=n:\n",
    "    sum=sum+i\n",
    "    i=i+1\n",
    "print(\"sum of n natural no.\",sum)"
   ]
  },
  {
   "cell_type": "code",
   "execution_count": 111,
   "metadata": {},
   "outputs": [
    {
     "name": "stdout",
     "output_type": "stream",
     "text": [
      "enter value 2\n",
      "given no. is positive\n"
     ]
    }
   ],
   "source": [
    "n=int(input(\"enter value \"))\n",
    "if n>0:\n",
    "    print(\"given no. is positive\")\n",
    "elif n<0:\n",
    "    print(\"given no. is negetive\")\n",
    "else:\n",
    "    print(\"given no. is zero\")"
   ]
  },
  {
   "cell_type": "code",
   "execution_count": 112,
   "metadata": {},
   "outputs": [
    {
     "name": "stdout",
     "output_type": "stream",
     "text": [
      "enter no.2\n",
      "enter no.3\n",
      "x= 3\n",
      "y= 2\n"
     ]
    }
   ],
   "source": [
    "x=int(input(\"enter no.\"))\n",
    "y=int(input(\"enter no.\"))\n",
    "a=x\n",
    "x=y\n",
    "y=a\n",
    "print(\"x=\",x)\n",
    "print(\"y=\",y)"
   ]
  },
  {
   "cell_type": "code",
   "execution_count": 80,
   "metadata": {},
   "outputs": [],
   "source": []
  },
  {
   "cell_type": "code",
   "execution_count": null,
   "metadata": {},
   "outputs": [],
   "source": []
  },
  {
   "cell_type": "code",
   "execution_count": null,
   "metadata": {},
   "outputs": [],
   "source": []
  },
  {
   "cell_type": "code",
   "execution_count": null,
   "metadata": {},
   "outputs": [],
   "source": []
  },
  {
   "cell_type": "code",
   "execution_count": null,
   "metadata": {},
   "outputs": [],
   "source": []
  },
  {
   "cell_type": "code",
   "execution_count": null,
   "metadata": {},
   "outputs": [],
   "source": [
    "\n"
   ]
  },
  {
   "cell_type": "code",
   "execution_count": null,
   "metadata": {},
   "outputs": [],
   "source": []
  },
  {
   "cell_type": "code",
   "execution_count": 87,
   "metadata": {},
   "outputs": [],
   "source": []
  },
  {
   "cell_type": "code",
   "execution_count": null,
   "metadata": {},
   "outputs": [],
   "source": []
  },
  {
   "cell_type": "code",
   "execution_count": 50,
   "metadata": {},
   "outputs": [],
   "source": []
  },
  {
   "cell_type": "code",
   "execution_count": null,
   "metadata": {},
   "outputs": [],
   "source": []
  },
  {
   "cell_type": "code",
   "execution_count": 52,
   "metadata": {},
   "outputs": [],
   "source": []
  },
  {
   "cell_type": "code",
   "execution_count": null,
   "metadata": {},
   "outputs": [],
   "source": []
  },
  {
   "cell_type": "code",
   "execution_count": null,
   "metadata": {},
   "outputs": [],
   "source": []
  },
  {
   "cell_type": "code",
   "execution_count": null,
   "metadata": {},
   "outputs": [],
   "source": []
  },
  {
   "cell_type": "code",
   "execution_count": null,
   "metadata": {},
   "outputs": [],
   "source": []
  },
  {
   "cell_type": "code",
   "execution_count": null,
   "metadata": {},
   "outputs": [],
   "source": []
  },
  {
   "cell_type": "code",
   "execution_count": null,
   "metadata": {},
   "outputs": [],
   "source": []
  },
  {
   "cell_type": "code",
   "execution_count": null,
   "metadata": {},
   "outputs": [],
   "source": []
  },
  {
   "cell_type": "code",
   "execution_count": null,
   "metadata": {},
   "outputs": [],
   "source": []
  },
  {
   "cell_type": "code",
   "execution_count": null,
   "metadata": {},
   "outputs": [],
   "source": []
  },
  {
   "cell_type": "code",
   "execution_count": null,
   "metadata": {},
   "outputs": [],
   "source": [
    "\n"
   ]
  },
  {
   "cell_type": "code",
   "execution_count": null,
   "metadata": {},
   "outputs": [],
   "source": []
  },
  {
   "cell_type": "code",
   "execution_count": null,
   "metadata": {},
   "outputs": [],
   "source": [
    "\n"
   ]
  },
  {
   "cell_type": "code",
   "execution_count": null,
   "metadata": {},
   "outputs": [],
   "source": []
  },
  {
   "cell_type": "code",
   "execution_count": null,
   "metadata": {},
   "outputs": [],
   "source": []
  },
  {
   "cell_type": "code",
   "execution_count": null,
   "metadata": {},
   "outputs": [],
   "source": []
  },
  {
   "cell_type": "code",
   "execution_count": null,
   "metadata": {},
   "outputs": [],
   "source": [
    "            \n"
   ]
  },
  {
   "cell_type": "code",
   "execution_count": null,
   "metadata": {},
   "outputs": [],
   "source": []
  },
  {
   "cell_type": "code",
   "execution_count": null,
   "metadata": {},
   "outputs": [],
   "source": []
  },
  {
   "cell_type": "code",
   "execution_count": null,
   "metadata": {},
   "outputs": [],
   "source": []
  },
  {
   "cell_type": "code",
   "execution_count": null,
   "metadata": {},
   "outputs": [],
   "source": [
    "\n"
   ]
  },
  {
   "cell_type": "code",
   "execution_count": null,
   "metadata": {},
   "outputs": [],
   "source": []
  },
  {
   "cell_type": "code",
   "execution_count": null,
   "metadata": {},
   "outputs": [],
   "source": []
  },
  {
   "cell_type": "code",
   "execution_count": null,
   "metadata": {},
   "outputs": [],
   "source": []
  },
  {
   "cell_type": "code",
   "execution_count": null,
   "metadata": {},
   "outputs": [],
   "source": []
  },
  {
   "cell_type": "code",
   "execution_count": null,
   "metadata": {},
   "outputs": [],
   "source": []
  },
  {
   "cell_type": "code",
   "execution_count": null,
   "metadata": {},
   "outputs": [],
   "source": []
  },
  {
   "cell_type": "code",
   "execution_count": null,
   "metadata": {},
   "outputs": [],
   "source": []
  },
  {
   "cell_type": "code",
   "execution_count": null,
   "metadata": {},
   "outputs": [],
   "source": []
  },
  {
   "cell_type": "code",
   "execution_count": null,
   "metadata": {},
   "outputs": [],
   "source": []
  },
  {
   "cell_type": "code",
   "execution_count": null,
   "metadata": {},
   "outputs": [],
   "source": [
    "\n"
   ]
  },
  {
   "cell_type": "code",
   "execution_count": null,
   "metadata": {},
   "outputs": [],
   "source": [
    "\n"
   ]
  },
  {
   "cell_type": "code",
   "execution_count": null,
   "metadata": {},
   "outputs": [],
   "source": []
  },
  {
   "cell_type": "code",
   "execution_count": null,
   "metadata": {},
   "outputs": [],
   "source": []
  }
 ],
 "metadata": {
  "kernelspec": {
   "display_name": "Python 3",
   "language": "python",
   "name": "python3"
  },
  "language_info": {
   "codemirror_mode": {
    "name": "ipython",
    "version": 3
   },
   "file_extension": ".py",
   "mimetype": "text/x-python",
   "name": "python",
   "nbconvert_exporter": "python",
   "pygments_lexer": "ipython3",
   "version": "3.8.5"
  }
 },
 "nbformat": 4,
 "nbformat_minor": 4
}
