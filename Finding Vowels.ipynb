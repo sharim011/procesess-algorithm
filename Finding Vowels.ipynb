{
 "cells": [
  {
   "cell_type": "markdown",
   "metadata": {},
   "source": [
    "# finding Vowels"
   ]
  },
  {
   "cell_type": "code",
   "execution_count": 1,
   "metadata": {},
   "outputs": [
    {
     "name": "stdout",
     "output_type": "stream",
     "text": [
      "enter the wordselephant\n",
      "e\n",
      "e\n",
      "a\n",
      "yes word is containing\n",
      "3\n"
     ]
    }
   ],
   "source": [
    "words=input(\"enter the words\")\n",
    "count=0\n",
    "for i in words:\n",
    "    if i in ['a','i','e','o','u']:\n",
    "        print(i)\n",
    "        count=count+1\n",
    "print(\"yes word is containing\")\n",
    "print(count)"
   ]
  },
  {
   "cell_type": "code",
   "execution_count": null,
   "metadata": {},
   "outputs": [],
   "source": []
  }
 ],
 "metadata": {
  "kernelspec": {
   "display_name": "Python 3",
   "language": "python",
   "name": "python3"
  },
  "language_info": {
   "codemirror_mode": {
    "name": "ipython",
    "version": 3
   },
   "file_extension": ".py",
   "mimetype": "text/x-python",
   "name": "python",
   "nbconvert_exporter": "python",
   "pygments_lexer": "ipython3",
   "version": "3.8.5"
  }
 },
 "nbformat": 4,
 "nbformat_minor": 4
}
